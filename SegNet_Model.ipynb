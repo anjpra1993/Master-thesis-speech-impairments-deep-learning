{
 "cells": [
  {
   "cell_type": "code",
   "execution_count": 1,
   "metadata": {},
   "outputs": [
    {
     "name": "stderr",
     "output_type": "stream",
     "text": [
      "Using TensorFlow backend.\n"
     ]
    }
   ],
   "source": [
    "from keras import models\n",
    "from keras.layers.core import Activation, Reshape, Permute\n",
    "from keras.layers.convolutional import Convolution2D, MaxPooling2D, UpSampling2D\n",
    "from keras.layers.normalization import BatchNormalization\n",
    "import json"
   ]
  },
  {
   "cell_type": "code",
   "execution_count": 2,
   "metadata": {},
   "outputs": [],
   "source": [
    "spec_w = 256\n",
    "spec_h = 256\n",
    "n_labels = 2\n",
    "\n",
    "kernel = 3"
   ]
  },
  {
   "cell_type": "code",
   "execution_count": 3,
   "metadata": {},
   "outputs": [
    {
     "name": "stderr",
     "output_type": "stream",
     "text": [
      "C:\\Users\\juhip\\Anaconda3\\lib\\site-packages\\ipykernel_launcher.py:2: UserWarning: Update your `Conv2D` call to the Keras 2 API: `Conv2D(64, 3, input_shape=(256, 256,..., padding=\"same\")`\n",
      "  \n",
      "C:\\Users\\juhip\\Anaconda3\\lib\\site-packages\\ipykernel_launcher.py:5: UserWarning: Update your `Conv2D` call to the Keras 2 API: `Conv2D(64, 3, padding=\"same\")`\n",
      "  \"\"\"\n",
      "C:\\Users\\juhip\\Anaconda3\\lib\\site-packages\\ipykernel_launcher.py:10: UserWarning: Update your `Conv2D` call to the Keras 2 API: `Conv2D(128, (3, 3), padding=\"same\")`\n",
      "  # Remove the CWD from sys.path while we load stuff.\n",
      "C:\\Users\\juhip\\Anaconda3\\lib\\site-packages\\ipykernel_launcher.py:13: UserWarning: Update your `Conv2D` call to the Keras 2 API: `Conv2D(128, (3, 3), padding=\"same\")`\n",
      "  del sys.path[0]\n",
      "C:\\Users\\juhip\\Anaconda3\\lib\\site-packages\\ipykernel_launcher.py:18: UserWarning: Update your `Conv2D` call to the Keras 2 API: `Conv2D(256, (3, 3), padding=\"same\")`\n",
      "C:\\Users\\juhip\\Anaconda3\\lib\\site-packages\\ipykernel_launcher.py:21: UserWarning: Update your `Conv2D` call to the Keras 2 API: `Conv2D(256, (3, 3), padding=\"same\")`\n",
      "C:\\Users\\juhip\\Anaconda3\\lib\\site-packages\\ipykernel_launcher.py:24: UserWarning: Update your `Conv2D` call to the Keras 2 API: `Conv2D(256, (3, 3), padding=\"same\")`\n",
      "C:\\Users\\juhip\\Anaconda3\\lib\\site-packages\\ipykernel_launcher.py:29: UserWarning: Update your `Conv2D` call to the Keras 2 API: `Conv2D(512, (3, 3), padding=\"same\")`\n",
      "C:\\Users\\juhip\\Anaconda3\\lib\\site-packages\\ipykernel_launcher.py:32: UserWarning: Update your `Conv2D` call to the Keras 2 API: `Conv2D(512, (3, 3), padding=\"same\")`\n",
      "C:\\Users\\juhip\\Anaconda3\\lib\\site-packages\\ipykernel_launcher.py:35: UserWarning: Update your `Conv2D` call to the Keras 2 API: `Conv2D(512, (3, 3), padding=\"same\")`\n",
      "C:\\Users\\juhip\\Anaconda3\\lib\\site-packages\\ipykernel_launcher.py:40: UserWarning: Update your `Conv2D` call to the Keras 2 API: `Conv2D(512, (3, 3), padding=\"same\")`\n",
      "C:\\Users\\juhip\\Anaconda3\\lib\\site-packages\\ipykernel_launcher.py:43: UserWarning: Update your `Conv2D` call to the Keras 2 API: `Conv2D(512, (3, 3), padding=\"same\")`\n",
      "C:\\Users\\juhip\\Anaconda3\\lib\\site-packages\\ipykernel_launcher.py:46: UserWarning: Update your `Conv2D` call to the Keras 2 API: `Conv2D(512, (3, 3), padding=\"same\")`\n"
     ]
    }
   ],
   "source": [
    "encoding_layers = [\n",
    "    Convolution2D(64, kernel, border_mode='same', input_shape=( spec_h, spec_w,1)),\n",
    "    BatchNormalization(),\n",
    "    Activation('relu'),\n",
    "    Convolution2D(64, kernel, border_mode='same'),\n",
    "    BatchNormalization(),\n",
    "    Activation('relu'),\n",
    "    MaxPooling2D(),\n",
    "\n",
    "    Convolution2D(128, kernel, kernel, border_mode='same'),\n",
    "    BatchNormalization(),\n",
    "    Activation('relu'),\n",
    "    Convolution2D(128, kernel, kernel, border_mode='same'),\n",
    "    BatchNormalization(),\n",
    "    Activation('relu'),\n",
    "    MaxPooling2D(),\n",
    "\n",
    "    Convolution2D(256, kernel, kernel, border_mode='same'),\n",
    "    BatchNormalization(),\n",
    "    Activation('relu'),\n",
    "    Convolution2D(256, kernel, kernel, border_mode='same'),\n",
    "    BatchNormalization(),\n",
    "    Activation('relu'),\n",
    "    Convolution2D(256, kernel, kernel, border_mode='same'),\n",
    "    BatchNormalization(),\n",
    "    Activation('relu'),\n",
    "    MaxPooling2D(),\n",
    "\n",
    "    Convolution2D(512, kernel, kernel, border_mode='same'),\n",
    "    BatchNormalization(),\n",
    "    Activation('relu'),\n",
    "    Convolution2D(512, kernel, kernel, border_mode='same'),\n",
    "    BatchNormalization(),\n",
    "    Activation('relu'),\n",
    "    Convolution2D(512, kernel, kernel, border_mode='same'),\n",
    "    BatchNormalization(),\n",
    "    Activation('relu'),\n",
    "    MaxPooling2D(),\n",
    "\n",
    "    Convolution2D(512, kernel, kernel, border_mode='same'),\n",
    "    BatchNormalization(),\n",
    "    Activation('relu'),\n",
    "    Convolution2D(512, kernel, kernel, border_mode='same'),\n",
    "    BatchNormalization(),\n",
    "    Activation('relu'),\n",
    "    Convolution2D(512, kernel, kernel, border_mode='same'),\n",
    "    BatchNormalization(),\n",
    "    Activation('relu'),\n",
    "    MaxPooling2D(),\n",
    "]\n"
   ]
  },
  {
   "cell_type": "code",
   "execution_count": 4,
   "metadata": {},
   "outputs": [
    {
     "name": "stdout",
     "output_type": "stream",
     "text": [
      "WARNING:tensorflow:From C:\\Users\\juhip\\Anaconda3\\lib\\site-packages\\tensorflow\\python\\ops\\resource_variable_ops.py:435: colocate_with (from tensorflow.python.framework.ops) is deprecated and will be removed in a future version.\n",
      "Instructions for updating:\n",
      "Colocations handled automatically by placer.\n",
      "(None, 256, 256, 1) (None, 256, 256, 64) <keras.layers.convolutional.Conv2D object at 0x00000202E5FE3A90>\n",
      "(None, 256, 256, 64) (None, 256, 256, 64) <keras.layers.normalization.BatchNormalization object at 0x00000202E5FE3EF0>\n",
      "(None, 256, 256, 64) (None, 256, 256, 64) <keras.layers.core.Activation object at 0x00000202E5FE3FD0>\n",
      "(None, 256, 256, 64) (None, 256, 256, 64) <keras.layers.convolutional.Conv2D object at 0x00000202E601F0B8>\n",
      "(None, 256, 256, 64) (None, 256, 256, 64) <keras.layers.normalization.BatchNormalization object at 0x00000202E601F160>\n",
      "(None, 256, 256, 64) (None, 256, 256, 64) <keras.layers.core.Activation object at 0x00000202E601F358>\n",
      "(None, 256, 256, 64) (None, 128, 128, 64) <keras.layers.pooling.MaxPooling2D object at 0x00000202E601F390>\n",
      "(None, 128, 128, 64) (None, 128, 128, 128) <keras.layers.convolutional.Conv2D object at 0x00000202E601F438>\n",
      "(None, 128, 128, 128) (None, 128, 128, 128) <keras.layers.normalization.BatchNormalization object at 0x00000202E601F4E0>\n",
      "(None, 128, 128, 128) (None, 128, 128, 128) <keras.layers.core.Activation object at 0x00000202E601F6D8>\n",
      "(None, 128, 128, 128) (None, 128, 128, 128) <keras.layers.convolutional.Conv2D object at 0x00000202E601F710>\n",
      "(None, 128, 128, 128) (None, 128, 128, 128) <keras.layers.normalization.BatchNormalization object at 0x00000202E601F7B8>\n",
      "(None, 128, 128, 128) (None, 128, 128, 128) <keras.layers.core.Activation object at 0x00000202E601F9B0>\n",
      "(None, 128, 128, 128) (None, 64, 64, 128) <keras.layers.pooling.MaxPooling2D object at 0x00000202E601F9E8>\n",
      "(None, 64, 64, 128) (None, 64, 64, 256) <keras.layers.convolutional.Conv2D object at 0x00000202E601FA90>\n",
      "(None, 64, 64, 256) (None, 64, 64, 256) <keras.layers.normalization.BatchNormalization object at 0x00000202E601FB38>\n",
      "(None, 64, 64, 256) (None, 64, 64, 256) <keras.layers.core.Activation object at 0x00000202E601FD30>\n",
      "(None, 64, 64, 256) (None, 64, 64, 256) <keras.layers.convolutional.Conv2D object at 0x00000202E601FD68>\n",
      "(None, 64, 64, 256) (None, 64, 64, 256) <keras.layers.normalization.BatchNormalization object at 0x00000202E601FE10>\n",
      "(None, 64, 64, 256) (None, 64, 64, 256) <keras.layers.core.Activation object at 0x00000202E601FFD0>\n",
      "(None, 64, 64, 256) (None, 64, 64, 256) <keras.layers.convolutional.Conv2D object at 0x00000202E6026080>\n",
      "(None, 64, 64, 256) (None, 64, 64, 256) <keras.layers.normalization.BatchNormalization object at 0x00000202E6026128>\n",
      "(None, 64, 64, 256) (None, 64, 64, 256) <keras.layers.core.Activation object at 0x00000202E6026320>\n",
      "(None, 64, 64, 256) (None, 32, 32, 256) <keras.layers.pooling.MaxPooling2D object at 0x00000202E6026358>\n",
      "(None, 32, 32, 256) (None, 32, 32, 512) <keras.layers.convolutional.Conv2D object at 0x00000202E6026400>\n",
      "(None, 32, 32, 512) (None, 32, 32, 512) <keras.layers.normalization.BatchNormalization object at 0x00000202E60264A8>\n",
      "(None, 32, 32, 512) (None, 32, 32, 512) <keras.layers.core.Activation object at 0x00000202E60266A0>\n",
      "(None, 32, 32, 512) (None, 32, 32, 512) <keras.layers.convolutional.Conv2D object at 0x00000202E60266D8>\n",
      "(None, 32, 32, 512) (None, 32, 32, 512) <keras.layers.normalization.BatchNormalization object at 0x00000202E6026780>\n",
      "(None, 32, 32, 512) (None, 32, 32, 512) <keras.layers.core.Activation object at 0x00000202E6026978>\n",
      "(None, 32, 32, 512) (None, 32, 32, 512) <keras.layers.convolutional.Conv2D object at 0x00000202E60269B0>\n",
      "(None, 32, 32, 512) (None, 32, 32, 512) <keras.layers.normalization.BatchNormalization object at 0x00000202E6026A58>\n",
      "(None, 32, 32, 512) (None, 32, 32, 512) <keras.layers.core.Activation object at 0x00000202E6026C50>\n",
      "(None, 32, 32, 512) (None, 16, 16, 512) <keras.layers.pooling.MaxPooling2D object at 0x00000202E6026C88>\n",
      "(None, 16, 16, 512) (None, 16, 16, 512) <keras.layers.convolutional.Conv2D object at 0x00000202E6026D30>\n",
      "(None, 16, 16, 512) (None, 16, 16, 512) <keras.layers.normalization.BatchNormalization object at 0x00000202E6026DD8>\n",
      "(None, 16, 16, 512) (None, 16, 16, 512) <keras.layers.core.Activation object at 0x00000202E6026FD0>\n",
      "(None, 16, 16, 512) (None, 16, 16, 512) <keras.layers.convolutional.Conv2D object at 0x00000202E602D048>\n",
      "(None, 16, 16, 512) (None, 16, 16, 512) <keras.layers.normalization.BatchNormalization object at 0x00000202E602D0F0>\n",
      "(None, 16, 16, 512) (None, 16, 16, 512) <keras.layers.core.Activation object at 0x00000202E602D2E8>\n",
      "(None, 16, 16, 512) (None, 16, 16, 512) <keras.layers.convolutional.Conv2D object at 0x00000202E602D320>\n",
      "(None, 16, 16, 512) (None, 16, 16, 512) <keras.layers.normalization.BatchNormalization object at 0x00000202E602D3C8>\n",
      "(None, 16, 16, 512) (None, 16, 16, 512) <keras.layers.core.Activation object at 0x00000202E602D5C0>\n",
      "(None, 16, 16, 512) (None, 8, 8, 512) <keras.layers.pooling.MaxPooling2D object at 0x00000202E602D5F8>\n"
     ]
    }
   ],
   "source": [
    "autoencoder = models.Sequential()\n",
    "autoencoder.encoding_layers = encoding_layers\n",
    "\n",
    "for l in autoencoder.encoding_layers:\n",
    "    autoencoder.add(l)\n",
    "    print(l.input_shape,l.output_shape,l)"
   ]
  },
  {
   "cell_type": "code",
   "execution_count": 5,
   "metadata": {},
   "outputs": [
    {
     "name": "stderr",
     "output_type": "stream",
     "text": [
      "C:\\Users\\juhip\\Anaconda3\\lib\\site-packages\\ipykernel_launcher.py:3: UserWarning: Update your `Conv2D` call to the Keras 2 API: `Conv2D(512, (3, 3), padding=\"same\")`\n",
      "  This is separate from the ipykernel package so we can avoid doing imports until\n",
      "C:\\Users\\juhip\\Anaconda3\\lib\\site-packages\\ipykernel_launcher.py:6: UserWarning: Update your `Conv2D` call to the Keras 2 API: `Conv2D(512, (3, 3), padding=\"same\")`\n",
      "  \n",
      "C:\\Users\\juhip\\Anaconda3\\lib\\site-packages\\ipykernel_launcher.py:9: UserWarning: Update your `Conv2D` call to the Keras 2 API: `Conv2D(512, (3, 3), padding=\"same\")`\n",
      "  if __name__ == '__main__':\n",
      "C:\\Users\\juhip\\Anaconda3\\lib\\site-packages\\ipykernel_launcher.py:14: UserWarning: Update your `Conv2D` call to the Keras 2 API: `Conv2D(512, (3, 3), padding=\"same\")`\n",
      "  \n",
      "C:\\Users\\juhip\\Anaconda3\\lib\\site-packages\\ipykernel_launcher.py:17: UserWarning: Update your `Conv2D` call to the Keras 2 API: `Conv2D(512, (3, 3), padding=\"same\")`\n",
      "C:\\Users\\juhip\\Anaconda3\\lib\\site-packages\\ipykernel_launcher.py:20: UserWarning: Update your `Conv2D` call to the Keras 2 API: `Conv2D(256, (3, 3), padding=\"same\")`\n",
      "C:\\Users\\juhip\\Anaconda3\\lib\\site-packages\\ipykernel_launcher.py:25: UserWarning: Update your `Conv2D` call to the Keras 2 API: `Conv2D(256, (3, 3), padding=\"same\")`\n",
      "C:\\Users\\juhip\\Anaconda3\\lib\\site-packages\\ipykernel_launcher.py:28: UserWarning: Update your `Conv2D` call to the Keras 2 API: `Conv2D(256, (3, 3), padding=\"same\")`\n",
      "C:\\Users\\juhip\\Anaconda3\\lib\\site-packages\\ipykernel_launcher.py:31: UserWarning: Update your `Conv2D` call to the Keras 2 API: `Conv2D(128, (3, 3), padding=\"same\")`\n",
      "C:\\Users\\juhip\\Anaconda3\\lib\\site-packages\\ipykernel_launcher.py:36: UserWarning: Update your `Conv2D` call to the Keras 2 API: `Conv2D(128, (3, 3), padding=\"same\")`\n",
      "C:\\Users\\juhip\\Anaconda3\\lib\\site-packages\\ipykernel_launcher.py:39: UserWarning: Update your `Conv2D` call to the Keras 2 API: `Conv2D(64, (3, 3), padding=\"same\")`\n",
      "C:\\Users\\juhip\\Anaconda3\\lib\\site-packages\\ipykernel_launcher.py:44: UserWarning: Update your `Conv2D` call to the Keras 2 API: `Conv2D(64, (3, 3), padding=\"same\")`\n",
      "C:\\Users\\juhip\\Anaconda3\\lib\\site-packages\\ipykernel_launcher.py:47: UserWarning: Update your `Conv2D` call to the Keras 2 API: `Conv2D(2, (1, 1), padding=\"valid\")`\n"
     ]
    }
   ],
   "source": [
    "decoding_layers = [\n",
    "    UpSampling2D(),\n",
    "    Convolution2D(512, kernel, kernel, border_mode='same'),\n",
    "    BatchNormalization(),\n",
    "    Activation('relu'),\n",
    "    Convolution2D(512, kernel, kernel, border_mode='same'),\n",
    "    BatchNormalization(),\n",
    "    Activation('relu'),\n",
    "    Convolution2D(512, kernel, kernel, border_mode='same'),\n",
    "    BatchNormalization(),\n",
    "    Activation('relu'),\n",
    "\n",
    "    UpSampling2D(),\n",
    "    Convolution2D(512, kernel, kernel, border_mode='same'),\n",
    "    BatchNormalization(),\n",
    "    Activation('relu'),\n",
    "    Convolution2D(512, kernel, kernel, border_mode='same'),\n",
    "    BatchNormalization(),\n",
    "    Activation('relu'),\n",
    "    Convolution2D(256, kernel, kernel, border_mode='same'),\n",
    "    BatchNormalization(),\n",
    "    Activation('relu'),\n",
    "\n",
    "    UpSampling2D(),\n",
    "    Convolution2D(256, kernel, kernel, border_mode='same'),\n",
    "    BatchNormalization(),\n",
    "    Activation('relu'),\n",
    "    Convolution2D(256, kernel, kernel, border_mode='same'),\n",
    "    BatchNormalization(),\n",
    "    Activation('relu'),\n",
    "    Convolution2D(128, kernel, kernel, border_mode='same'),\n",
    "    BatchNormalization(),\n",
    "    Activation('relu'),\n",
    "\n",
    "    UpSampling2D(),\n",
    "    Convolution2D(128, kernel, kernel, border_mode='same'),\n",
    "    BatchNormalization(),\n",
    "    Activation('relu'),\n",
    "    Convolution2D(64, kernel, kernel, border_mode='same'),\n",
    "    BatchNormalization(),\n",
    "    Activation('relu'),\n",
    "\n",
    "    UpSampling2D(),\n",
    "    Convolution2D(64, kernel, kernel, border_mode='same'),\n",
    "    BatchNormalization(),\n",
    "    Activation('relu'),\n",
    "    Convolution2D(n_labels, 1, 1, border_mode='valid'),\n",
    "    BatchNormalization(),\n",
    "]"
   ]
  },
  {
   "cell_type": "code",
   "execution_count": 6,
   "metadata": {},
   "outputs": [],
   "source": [
    "autoencoder.decoding_layers = decoding_layers\n",
    "for l in autoencoder.decoding_layers:\n",
    "    autoencoder.add(l)"
   ]
  },
  {
   "cell_type": "code",
   "execution_count": 7,
   "metadata": {},
   "outputs": [],
   "source": [
    "autoencoder.add(Reshape((n_labels, spec_h * spec_w)))\n",
    "autoencoder.add(Permute((2, 1)))\n",
    "autoencoder.add(Activation('softmax'))"
   ]
  },
  {
   "cell_type": "code",
   "execution_count": 8,
   "metadata": {},
   "outputs": [],
   "source": [
    "with open('model_segnet_en-decoder.json', 'w') as outfile:\n",
    "    outfile.write(json.dumps(json.loads(autoencoder.to_json()), indent=2))"
   ]
  }
 ],
 "metadata": {
  "kernelspec": {
   "display_name": "Python 3",
   "language": "python",
   "name": "python3"
  },
  "language_info": {
   "codemirror_mode": {
    "name": "ipython",
    "version": 3
   },
   "file_extension": ".py",
   "mimetype": "text/x-python",
   "name": "python",
   "nbconvert_exporter": "python",
   "pygments_lexer": "ipython3",
   "version": "3.7.0"
  }
 },
 "nbformat": 4,
 "nbformat_minor": 2
}
