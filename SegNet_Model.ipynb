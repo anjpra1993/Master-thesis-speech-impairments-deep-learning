{
 "cells": [
  {
   "cell_type": "code",
   "execution_count": 14,
   "metadata": {},
   "outputs": [],
   "source": [
    "from keras import models\n",
    "from keras.layers.core import Activation, Reshape, Permute\n",
    "from keras.layers.convolutional import Convolution2D, MaxPooling2D, UpSampling2D\n",
    "from keras.layers.normalization import BatchNormalization\n",
    "import json"
   ]
  },
  {
   "cell_type": "code",
   "execution_count": 15,
   "metadata": {},
   "outputs": [],
   "source": [
    "spec_w = 256\n",
    "spec_h = 256\n",
    "n_labels = 2\n",
    "\n",
    "kernel = 3"
   ]
  },
  {
   "cell_type": "code",
   "execution_count": 16,
   "metadata": {},
   "outputs": [
    {
     "name": "stderr",
     "output_type": "stream",
     "text": [
      "C:\\Users\\juhip\\Anaconda3\\lib\\site-packages\\ipykernel_launcher.py:2: UserWarning: Update your `Conv2D` call to the Keras 2 API: `Conv2D(64, 3, input_shape=(256, 256,..., padding=\"same\")`\n",
      "  \n",
      "C:\\Users\\juhip\\Anaconda3\\lib\\site-packages\\ipykernel_launcher.py:5: UserWarning: Update your `Conv2D` call to the Keras 2 API: `Conv2D(64, 3, padding=\"same\")`\n",
      "  \"\"\"\n",
      "C:\\Users\\juhip\\Anaconda3\\lib\\site-packages\\ipykernel_launcher.py:10: UserWarning: Update your `Conv2D` call to the Keras 2 API: `Conv2D(128, (3, 3), padding=\"same\")`\n",
      "  # Remove the CWD from sys.path while we load stuff.\n",
      "C:\\Users\\juhip\\Anaconda3\\lib\\site-packages\\ipykernel_launcher.py:13: UserWarning: Update your `Conv2D` call to the Keras 2 API: `Conv2D(128, (3, 3), padding=\"same\")`\n",
      "  del sys.path[0]\n",
      "C:\\Users\\juhip\\Anaconda3\\lib\\site-packages\\ipykernel_launcher.py:18: UserWarning: Update your `Conv2D` call to the Keras 2 API: `Conv2D(256, (3, 3), padding=\"same\")`\n",
      "C:\\Users\\juhip\\Anaconda3\\lib\\site-packages\\ipykernel_launcher.py:21: UserWarning: Update your `Conv2D` call to the Keras 2 API: `Conv2D(256, (3, 3), padding=\"same\")`\n",
      "C:\\Users\\juhip\\Anaconda3\\lib\\site-packages\\ipykernel_launcher.py:24: UserWarning: Update your `Conv2D` call to the Keras 2 API: `Conv2D(256, (3, 3), padding=\"same\")`\n",
      "C:\\Users\\juhip\\Anaconda3\\lib\\site-packages\\ipykernel_launcher.py:29: UserWarning: Update your `Conv2D` call to the Keras 2 API: `Conv2D(512, (3, 3), padding=\"same\")`\n",
      "C:\\Users\\juhip\\Anaconda3\\lib\\site-packages\\ipykernel_launcher.py:32: UserWarning: Update your `Conv2D` call to the Keras 2 API: `Conv2D(512, (3, 3), padding=\"same\")`\n",
      "C:\\Users\\juhip\\Anaconda3\\lib\\site-packages\\ipykernel_launcher.py:35: UserWarning: Update your `Conv2D` call to the Keras 2 API: `Conv2D(512, (3, 3), padding=\"same\")`\n",
      "C:\\Users\\juhip\\Anaconda3\\lib\\site-packages\\ipykernel_launcher.py:40: UserWarning: Update your `Conv2D` call to the Keras 2 API: `Conv2D(512, (3, 3), padding=\"same\")`\n",
      "C:\\Users\\juhip\\Anaconda3\\lib\\site-packages\\ipykernel_launcher.py:43: UserWarning: Update your `Conv2D` call to the Keras 2 API: `Conv2D(512, (3, 3), padding=\"same\")`\n",
      "C:\\Users\\juhip\\Anaconda3\\lib\\site-packages\\ipykernel_launcher.py:46: UserWarning: Update your `Conv2D` call to the Keras 2 API: `Conv2D(512, (3, 3), padding=\"same\")`\n"
     ]
    }
   ],
   "source": [
    "encoding_layers = [\n",
    "    Convolution2D(64, kernel, border_mode='same', input_shape=( spec_h, spec_w,1)),\n",
    "    BatchNormalization(),\n",
    "    Activation('relu'),\n",
    "    Convolution2D(64, kernel, border_mode='same'),\n",
    "    BatchNormalization(),\n",
    "    Activation('relu'),\n",
    "    MaxPooling2D(),\n",
    "\n",
    "    Convolution2D(128, kernel, kernel, border_mode='same'),\n",
    "    BatchNormalization(),\n",
    "    Activation('relu'),\n",
    "    Convolution2D(128, kernel, kernel, border_mode='same'),\n",
    "    BatchNormalization(),\n",
    "    Activation('relu'),\n",
    "    MaxPooling2D(),\n",
    "\n",
    "    Convolution2D(256, kernel, kernel, border_mode='same'),\n",
    "    BatchNormalization(),\n",
    "    Activation('relu'),\n",
    "    Convolution2D(256, kernel, kernel, border_mode='same'),\n",
    "    BatchNormalization(),\n",
    "    Activation('relu'),\n",
    "    Convolution2D(256, kernel, kernel, border_mode='same'),\n",
    "    BatchNormalization(),\n",
    "    Activation('relu'),\n",
    "    MaxPooling2D(),\n",
    "\n",
    "    Convolution2D(512, kernel, kernel, border_mode='same'),\n",
    "    BatchNormalization(),\n",
    "    Activation('relu'),\n",
    "    Convolution2D(512, kernel, kernel, border_mode='same'),\n",
    "    BatchNormalization(),\n",
    "    Activation('relu'),\n",
    "    Convolution2D(512, kernel, kernel, border_mode='same'),\n",
    "    BatchNormalization(),\n",
    "    Activation('relu'),\n",
    "    MaxPooling2D(),\n",
    "\n",
    "    Convolution2D(512, kernel, kernel, border_mode='same'),\n",
    "    BatchNormalization(),\n",
    "    Activation('relu'),\n",
    "    Convolution2D(512, kernel, kernel, border_mode='same'),\n",
    "    BatchNormalization(),\n",
    "    Activation('relu'),\n",
    "    Convolution2D(512, kernel, kernel, border_mode='same'),\n",
    "    BatchNormalization(),\n",
    "    Activation('relu'),\n",
    "    MaxPooling2D(),\n",
    "]\n"
   ]
  },
  {
   "cell_type": "code",
   "execution_count": 17,
   "metadata": {},
   "outputs": [
    {
     "name": "stdout",
     "output_type": "stream",
     "text": [
      "(None, 256, 256, 1) (None, 256, 256, 64) <keras.layers.convolutional.Conv2D object at 0x000001A322B5A400>\n",
      "(None, 256, 256, 64) (None, 256, 256, 64) <keras.layers.normalization.BatchNormalization object at 0x000001A322B5A588>\n",
      "(None, 256, 256, 64) (None, 256, 256, 64) <keras.layers.core.Activation object at 0x000001A322B5A6A0>\n",
      "(None, 256, 256, 64) (None, 256, 256, 64) <keras.layers.convolutional.Conv2D object at 0x000001A322B5A6D8>\n",
      "(None, 256, 256, 64) (None, 256, 256, 64) <keras.layers.normalization.BatchNormalization object at 0x000001A322B5A780>\n",
      "(None, 256, 256, 64) (None, 256, 256, 64) <keras.layers.core.Activation object at 0x000001A322B5A978>\n",
      "(None, 256, 256, 64) (None, 128, 128, 64) <keras.layers.pooling.MaxPooling2D object at 0x000001A322B5A9B0>\n",
      "(None, 128, 128, 64) (None, 128, 128, 128) <keras.layers.convolutional.Conv2D object at 0x000001A322B5AA58>\n",
      "(None, 128, 128, 128) (None, 128, 128, 128) <keras.layers.normalization.BatchNormalization object at 0x000001A322B5AB00>\n",
      "(None, 128, 128, 128) (None, 128, 128, 128) <keras.layers.core.Activation object at 0x000001A322B5ACF8>\n",
      "(None, 128, 128, 128) (None, 128, 128, 128) <keras.layers.convolutional.Conv2D object at 0x000001A322B5AD30>\n",
      "(None, 128, 128, 128) (None, 128, 128, 128) <keras.layers.normalization.BatchNormalization object at 0x000001A322B5ADD8>\n",
      "(None, 128, 128, 128) (None, 128, 128, 128) <keras.layers.core.Activation object at 0x000001A322B5AFD0>\n",
      "(None, 128, 128, 128) (None, 64, 64, 128) <keras.layers.pooling.MaxPooling2D object at 0x000001A322B67048>\n",
      "(None, 64, 64, 128) (None, 64, 64, 256) <keras.layers.convolutional.Conv2D object at 0x000001A322B670F0>\n",
      "(None, 64, 64, 256) (None, 64, 64, 256) <keras.layers.normalization.BatchNormalization object at 0x000001A322B67198>\n",
      "(None, 64, 64, 256) (None, 64, 64, 256) <keras.layers.core.Activation object at 0x000001A322B67390>\n",
      "(None, 64, 64, 256) (None, 64, 64, 256) <keras.layers.convolutional.Conv2D object at 0x000001A322B673C8>\n",
      "(None, 64, 64, 256) (None, 64, 64, 256) <keras.layers.normalization.BatchNormalization object at 0x000001A322B67470>\n",
      "(None, 64, 64, 256) (None, 64, 64, 256) <keras.layers.core.Activation object at 0x000001A322B67668>\n",
      "(None, 64, 64, 256) (None, 64, 64, 256) <keras.layers.convolutional.Conv2D object at 0x000001A322B676A0>\n",
      "(None, 64, 64, 256) (None, 64, 64, 256) <keras.layers.normalization.BatchNormalization object at 0x000001A322B67748>\n",
      "(None, 64, 64, 256) (None, 64, 64, 256) <keras.layers.core.Activation object at 0x000001A322B67940>\n",
      "(None, 64, 64, 256) (None, 32, 32, 256) <keras.layers.pooling.MaxPooling2D object at 0x000001A322B67978>\n",
      "(None, 32, 32, 256) (None, 32, 32, 512) <keras.layers.convolutional.Conv2D object at 0x000001A322B67A20>\n",
      "(None, 32, 32, 512) (None, 32, 32, 512) <keras.layers.normalization.BatchNormalization object at 0x000001A322B67AC8>\n",
      "(None, 32, 32, 512) (None, 32, 32, 512) <keras.layers.core.Activation object at 0x000001A322B67CC0>\n",
      "(None, 32, 32, 512) (None, 32, 32, 512) <keras.layers.convolutional.Conv2D object at 0x000001A322B67CF8>\n",
      "(None, 32, 32, 512) (None, 32, 32, 512) <keras.layers.normalization.BatchNormalization object at 0x000001A322B67DA0>\n",
      "(None, 32, 32, 512) (None, 32, 32, 512) <keras.layers.core.Activation object at 0x000001A322B67F98>\n",
      "(None, 32, 32, 512) (None, 32, 32, 512) <keras.layers.convolutional.Conv2D object at 0x000001A322B67FD0>\n",
      "(None, 32, 32, 512) (None, 32, 32, 512) <keras.layers.normalization.BatchNormalization object at 0x000001A322B650B8>\n",
      "(None, 32, 32, 512) (None, 32, 32, 512) <keras.layers.core.Activation object at 0x000001A322B65320>\n",
      "(None, 32, 32, 512) (None, 16, 16, 512) <keras.layers.pooling.MaxPooling2D object at 0x000001A322B65358>\n",
      "(None, 16, 16, 512) (None, 16, 16, 512) <keras.layers.convolutional.Conv2D object at 0x000001A322B65400>\n",
      "(None, 16, 16, 512) (None, 16, 16, 512) <keras.layers.normalization.BatchNormalization object at 0x000001A322B654A8>\n",
      "(None, 16, 16, 512) (None, 16, 16, 512) <keras.layers.core.Activation object at 0x000001A322B656A0>\n",
      "(None, 16, 16, 512) (None, 16, 16, 512) <keras.layers.convolutional.Conv2D object at 0x000001A322B656D8>\n",
      "(None, 16, 16, 512) (None, 16, 16, 512) <keras.layers.normalization.BatchNormalization object at 0x000001A322B65780>\n",
      "(None, 16, 16, 512) (None, 16, 16, 512) <keras.layers.core.Activation object at 0x000001A322B65978>\n",
      "(None, 16, 16, 512) (None, 16, 16, 512) <keras.layers.convolutional.Conv2D object at 0x000001A322B659B0>\n",
      "(None, 16, 16, 512) (None, 16, 16, 512) <keras.layers.normalization.BatchNormalization object at 0x000001A322B65A58>\n",
      "(None, 16, 16, 512) (None, 16, 16, 512) <keras.layers.core.Activation object at 0x000001A322B65C50>\n",
      "(None, 16, 16, 512) (None, 8, 8, 512) <keras.layers.pooling.MaxPooling2D object at 0x000001A322B65C88>\n"
     ]
    }
   ],
   "source": [
    "autoencoder = models.Sequential()\n",
    "autoencoder.encoding_layers = encoding_layers\n",
    "\n",
    "for l in autoencoder.encoding_layers:\n",
    "    autoencoder.add(l)\n",
    "    print(l.input_shape,l.output_shape,l)"
   ]
  },
  {
   "cell_type": "code",
   "execution_count": 18,
   "metadata": {},
   "outputs": [
    {
     "name": "stderr",
     "output_type": "stream",
     "text": [
      "C:\\Users\\juhip\\Anaconda3\\lib\\site-packages\\ipykernel_launcher.py:3: UserWarning: Update your `Conv2D` call to the Keras 2 API: `Conv2D(512, (3, 3), padding=\"same\")`\n",
      "  This is separate from the ipykernel package so we can avoid doing imports until\n",
      "C:\\Users\\juhip\\Anaconda3\\lib\\site-packages\\ipykernel_launcher.py:6: UserWarning: Update your `Conv2D` call to the Keras 2 API: `Conv2D(512, (3, 3), padding=\"same\")`\n",
      "  \n",
      "C:\\Users\\juhip\\Anaconda3\\lib\\site-packages\\ipykernel_launcher.py:9: UserWarning: Update your `Conv2D` call to the Keras 2 API: `Conv2D(512, (3, 3), padding=\"same\")`\n",
      "  if __name__ == '__main__':\n",
      "C:\\Users\\juhip\\Anaconda3\\lib\\site-packages\\ipykernel_launcher.py:14: UserWarning: Update your `Conv2D` call to the Keras 2 API: `Conv2D(512, (3, 3), padding=\"same\")`\n",
      "  \n",
      "C:\\Users\\juhip\\Anaconda3\\lib\\site-packages\\ipykernel_launcher.py:17: UserWarning: Update your `Conv2D` call to the Keras 2 API: `Conv2D(512, (3, 3), padding=\"same\")`\n",
      "C:\\Users\\juhip\\Anaconda3\\lib\\site-packages\\ipykernel_launcher.py:20: UserWarning: Update your `Conv2D` call to the Keras 2 API: `Conv2D(256, (3, 3), padding=\"same\")`\n",
      "C:\\Users\\juhip\\Anaconda3\\lib\\site-packages\\ipykernel_launcher.py:25: UserWarning: Update your `Conv2D` call to the Keras 2 API: `Conv2D(256, (3, 3), padding=\"same\")`\n",
      "C:\\Users\\juhip\\Anaconda3\\lib\\site-packages\\ipykernel_launcher.py:28: UserWarning: Update your `Conv2D` call to the Keras 2 API: `Conv2D(256, (3, 3), padding=\"same\")`\n",
      "C:\\Users\\juhip\\Anaconda3\\lib\\site-packages\\ipykernel_launcher.py:31: UserWarning: Update your `Conv2D` call to the Keras 2 API: `Conv2D(128, (3, 3), padding=\"same\")`\n",
      "C:\\Users\\juhip\\Anaconda3\\lib\\site-packages\\ipykernel_launcher.py:36: UserWarning: Update your `Conv2D` call to the Keras 2 API: `Conv2D(128, (3, 3), padding=\"same\")`\n",
      "C:\\Users\\juhip\\Anaconda3\\lib\\site-packages\\ipykernel_launcher.py:39: UserWarning: Update your `Conv2D` call to the Keras 2 API: `Conv2D(64, (3, 3), padding=\"same\")`\n",
      "C:\\Users\\juhip\\Anaconda3\\lib\\site-packages\\ipykernel_launcher.py:44: UserWarning: Update your `Conv2D` call to the Keras 2 API: `Conv2D(64, (3, 3), padding=\"same\")`\n",
      "C:\\Users\\juhip\\Anaconda3\\lib\\site-packages\\ipykernel_launcher.py:47: UserWarning: Update your `Conv2D` call to the Keras 2 API: `Conv2D(2, (1, 1), padding=\"valid\")`\n"
     ]
    }
   ],
   "source": [
    "decoding_layers = [\n",
    "    UpSampling2D(),\n",
    "    Convolution2D(512, kernel, kernel, border_mode='same'),\n",
    "    BatchNormalization(),\n",
    "    Activation('relu'),\n",
    "    Convolution2D(512, kernel, kernel, border_mode='same'),\n",
    "    BatchNormalization(),\n",
    "    Activation('relu'),\n",
    "    Convolution2D(512, kernel, kernel, border_mode='same'),\n",
    "    BatchNormalization(),\n",
    "    Activation('relu'),\n",
    "\n",
    "    UpSampling2D(),\n",
    "    Convolution2D(512, kernel, kernel, border_mode='same'),\n",
    "    BatchNormalization(),\n",
    "    Activation('relu'),\n",
    "    Convolution2D(512, kernel, kernel, border_mode='same'),\n",
    "    BatchNormalization(),\n",
    "    Activation('relu'),\n",
    "    Convolution2D(256, kernel, kernel, border_mode='same'),\n",
    "    BatchNormalization(),\n",
    "    Activation('relu'),\n",
    "\n",
    "    UpSampling2D(),\n",
    "    Convolution2D(256, kernel, kernel, border_mode='same'),\n",
    "    BatchNormalization(),\n",
    "    Activation('relu'),\n",
    "    Convolution2D(256, kernel, kernel, border_mode='same'),\n",
    "    BatchNormalization(),\n",
    "    Activation('relu'),\n",
    "    Convolution2D(128, kernel, kernel, border_mode='same'),\n",
    "    BatchNormalization(),\n",
    "    Activation('relu'),\n",
    "\n",
    "    UpSampling2D(),\n",
    "    Convolution2D(128, kernel, kernel, border_mode='same'),\n",
    "    BatchNormalization(),\n",
    "    Activation('relu'),\n",
    "    Convolution2D(64, kernel, kernel, border_mode='same'),\n",
    "    BatchNormalization(),\n",
    "    Activation('relu'),\n",
    "\n",
    "    UpSampling2D(),\n",
    "    Convolution2D(64, kernel, kernel, border_mode='same'),\n",
    "    BatchNormalization(),\n",
    "    Activation('relu'),\n",
    "    Convolution2D(n_labels, 1, 1, border_mode='valid'),\n",
    "    BatchNormalization(),\n",
    "]"
   ]
  },
  {
   "cell_type": "code",
   "execution_count": 19,
   "metadata": {},
   "outputs": [],
   "source": [
    "autoencoder.decoding_layers = decoding_layers\n",
    "for l in autoencoder.decoding_layers:\n",
    "    autoencoder.add(l)"
   ]
  },
  {
   "cell_type": "code",
   "execution_count": 20,
   "metadata": {},
   "outputs": [],
   "source": [
    "autoencoder.add(Reshape((n_labels, spec_h * spec_w)))\n",
    "autoencoder.add(Permute((2, 1)))\n",
    "autoencoder.add(Activation('softmax'))"
   ]
  },
  {
   "cell_type": "code",
   "execution_count": 21,
   "metadata": {},
   "outputs": [],
   "source": [
    "with open('model_segnet_autoencoder.json', 'w') as outfile:\n",
    "    outfile.write(json.dumps(json.loads(autoencoder.to_json()), indent=2))"
   ]
  }
 ],
 "metadata": {
  "kernelspec": {
   "display_name": "Python 3",
   "language": "python",
   "name": "python3"
  },
  "language_info": {
   "codemirror_mode": {
    "name": "ipython",
    "version": 3
   },
   "file_extension": ".py",
   "mimetype": "text/x-python",
   "name": "python",
   "nbconvert_exporter": "python",
   "pygments_lexer": "ipython3",
   "version": "3.7.0"
  }
 },
 "nbformat": 4,
 "nbformat_minor": 2
}
